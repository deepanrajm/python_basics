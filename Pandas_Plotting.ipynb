{
  "nbformat": 4,
  "nbformat_minor": 0,
  "metadata": {
    "colab": {
      "name": "Pandas_Plotting.ipynb",
      "provenance": [],
      "include_colab_link": true
    },
    "kernelspec": {
      "name": "python3",
      "display_name": "Python 3"
    }
  },
  "cells": [
    {
      "cell_type": "markdown",
      "metadata": {
        "id": "view-in-github",
        "colab_type": "text"
      },
      "source": [
        "<a href=\"https://colab.research.google.com/github/deepanrajm/python_basics/blob/master/Pandas_Plotting.ipynb\" target=\"_parent\"><img src=\"https://colab.research.google.com/assets/colab-badge.svg\" alt=\"Open In Colab\"/></a>"
      ]
    },
    {
      "cell_type": "markdown",
      "metadata": {
        "id": "58YjF4VCcGXM"
      },
      "source": [
        "# **Plotting**"
      ]
    },
    {
      "cell_type": "code",
      "metadata": {
        "id": "4XTSPD8Ka3yR"
      },
      "source": [
        "!git clone https://github.com/deepanrajm/machine_learning.git"
      ],
      "execution_count": null,
      "outputs": []
    },
    {
      "cell_type": "markdown",
      "metadata": {
        "id": "KyrXtOaocMWf"
      },
      "source": [
        "# General plot.**py**"
      ]
    },
    {
      "cell_type": "code",
      "metadata": {
        "id": "JsFATb435SwS"
      },
      "source": [
        "import matplotlib.pyplot as plt\n",
        "import numpy as np\n",
        "import seaborn as sns"
      ],
      "execution_count": 2,
      "outputs": []
    },
    {
      "cell_type": "code",
      "metadata": {
        "id": "khvgt4Gh5WMQ"
      },
      "source": [
        "x = np.random.random((10, 1))\n",
        "\n",
        "print(x)"
      ],
      "execution_count": null,
      "outputs": []
    },
    {
      "cell_type": "code",
      "metadata": {
        "id": "mofPFLUU5YoJ"
      },
      "source": [
        "plt.plot(x, '*-')\n",
        "plt.show()"
      ],
      "execution_count": null,
      "outputs": []
    },
    {
      "cell_type": "code",
      "metadata": {
        "id": "PNbDs8nY5eY2"
      },
      "source": [
        "x = np.linspace(0, 100, 50)\n",
        "y = np.power(x, 2)\n",
        "plt.plot(x, y, '+-')\n",
        "plt.show()"
      ],
      "execution_count": null,
      "outputs": []
    },
    {
      "cell_type": "code",
      "metadata": {
        "id": "37rikei85hCl"
      },
      "source": [
        "sns.set()\n",
        "sns.lineplot(x =x, y=y)\n",
        "plt.show()"
      ],
      "execution_count": null,
      "outputs": []
    },
    {
      "cell_type": "markdown",
      "metadata": {
        "id": "LOsbB7JHcgBD"
      },
      "source": [
        "# **Plotting Data from Dataset**"
      ]
    },
    {
      "cell_type": "code",
      "metadata": {
        "id": "TAKX_zkZ5uoD"
      },
      "source": [
        "import matplotlib.pyplot as plt\n",
        "import numpy as np\n",
        "import seaborn as sns\n",
        "import pandas as pd"
      ],
      "execution_count": 13,
      "outputs": []
    },
    {
      "cell_type": "code",
      "metadata": {
        "id": "Bjz0EPCD5xGz"
      },
      "source": [
        "data = pd.read_csv('/content/machine_learning/Classification/mobile_cleaned.csv')\n",
        "data.head()"
      ],
      "execution_count": null,
      "outputs": []
    },
    {
      "cell_type": "code",
      "source": [
        "data.describe()"
      ],
      "metadata": {
        "id": "R4iBf0ZTS4YY"
      },
      "execution_count": null,
      "outputs": []
    },
    {
      "cell_type": "markdown",
      "source": [
        "# Uni-Variant"
      ],
      "metadata": {
        "id": "ZaSMfbxi1LaQ"
      }
    },
    {
      "cell_type": "code",
      "source": [
        "sns.countplot(x ='stand_by_time', data = data)\n",
        "plt.show()"
      ],
      "metadata": {
        "id": "qlz9QI4CTGdo"
      },
      "execution_count": null,
      "outputs": []
    },
    {
      "cell_type": "code",
      "metadata": {
        "id": "_dhfWITu6CsF"
      },
      "source": [
        "sns.distplot(data[\"stand_by_time\"])\n",
        "plt.show()"
      ],
      "execution_count": null,
      "outputs": []
    },
    {
      "cell_type": "code",
      "source": [
        "sns.histplot(data=data, x=\"stand_by_time\")\n",
        "plt.show()"
      ],
      "metadata": {
        "id": "hXe0eNSb4y8k"
      },
      "execution_count": null,
      "outputs": []
    },
    {
      "cell_type": "markdown",
      "source": [
        "# Bi-Variant"
      ],
      "metadata": {
        "id": "UxE03eoS1OpI"
      }
    },
    {
      "cell_type": "code",
      "metadata": {
        "id": "-ZPqF4i85-CR"
      },
      "source": [
        "ax = sns.scatterplot(x=\"stand_by_time\", y=\"battery_capacity\", data=data)\n",
        "plt.show()"
      ],
      "execution_count": null,
      "outputs": []
    },
    {
      "cell_type": "code",
      "metadata": {
        "id": "gn07WOHw6D4r"
      },
      "source": [
        "#Minimum, 25,50,75, max\n",
        "ax = sns.boxplot(x=\"is_liked\", y=\"battery_capacity\", data=data)\n",
        "plt.show()\n",
        "#Minimum = Q1–1.5 * IQR and Maximum = Q3 + 1.5 * IQR"
      ],
      "execution_count": null,
      "outputs": []
    },
    {
      "cell_type": "code",
      "metadata": {
        "id": "wN4hUmPocpP6"
      },
      "source": [
        "ax = sns.boxplot(x = \"expandable_memory\", y = \"price\", data=data)\n",
        "plt.show()"
      ],
      "execution_count": null,
      "outputs": []
    },
    {
      "cell_type": "markdown",
      "source": [
        "# Multi-Variant"
      ],
      "metadata": {
        "id": "u-l5QEEq1SIZ"
      }
    },
    {
      "cell_type": "code",
      "source": [
        "ax = sns.violinplot(x='expandable_memory', y='price', data=data,\n",
        "               hue='is_liked', split=True)\n",
        "plt.show()"
      ],
      "metadata": {
        "id": "7E3j5r6NSgI9"
      },
      "execution_count": null,
      "outputs": []
    },
    {
      "cell_type": "code",
      "metadata": {
        "id": "qjMZ4my86AXk"
      },
      "source": [
        "ax = sns.scatterplot(x = \"stand_by_time\", y = \"battery_capacity\", hue=\"thickness\", data=data)\n",
        "plt.show()"
      ],
      "execution_count": null,
      "outputs": []
    },
    {
      "cell_type": "code",
      "metadata": {
        "id": "KBohZqYVc3v-"
      },
      "source": [
        "dataframe = pd.read_csv(\"/content/machine_learning/Classification/iris.csv\")\n",
        "print(dataframe.head())\n",
        "\n",
        "\n",
        "ax = sns.scatterplot(x=\"petal.length\", y=\"petal.width\",hue=\"Variety\",size = \"sepal.width\",data=dataframe)\n",
        "plt.show()"
      ],
      "execution_count": null,
      "outputs": []
    },
    {
      "cell_type": "code",
      "source": [
        "ax = sns.swarmplot(x='sepal.length', y='Variety', data=dataframe)"
      ],
      "metadata": {
        "id": "s6wS3b8oT_CF"
      },
      "execution_count": null,
      "outputs": []
    },
    {
      "cell_type": "code",
      "source": [
        "sns.pairplot(dataframe[['petal.length','petal.width','sepal.length','sepal.width']])\n",
        "plt.show()"
      ],
      "metadata": {
        "id": "4C8xqVR51YJ1"
      },
      "execution_count": null,
      "outputs": []
    },
    {
      "cell_type": "code",
      "source": [
        "sns.pairplot(dataframe, hue='Variety')\n",
        "plt.show()"
      ],
      "metadata": {
        "id": "3TaubmCj2w-A"
      },
      "execution_count": null,
      "outputs": []
    }
  ]
}