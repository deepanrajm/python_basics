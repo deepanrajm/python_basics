{
  "nbformat": 4,
  "nbformat_minor": 0,
  "metadata": {
    "colab": {
      "provenance": []
    },
    "kernelspec": {
      "name": "python3",
      "display_name": "Python 3"
    },
    "language_info": {
      "name": "python"
    }
  },
  "cells": [
    {
      "cell_type": "markdown",
      "source": [
        "# Basic Plotting"
      ],
      "metadata": {
        "id": "ope-9WsvvSE3"
      }
    },
    {
      "cell_type": "code",
      "source": [
        "import matplotlib.pyplot as plt\n",
        "import numpy as np\n",
        "import seaborn as sns\n",
        "import pandas as pd"
      ],
      "metadata": {
        "id": "L2MXo__UvOgC"
      },
      "execution_count": 2,
      "outputs": []
    },
    {
      "cell_type": "code",
      "source": [
        "x = np.random.random((10, 1))\n",
        "\n",
        "print(x)"
      ],
      "metadata": {
        "id": "YP0Pp-XXvZJ4"
      },
      "execution_count": null,
      "outputs": []
    },
    {
      "cell_type": "code",
      "source": [
        "plt.plot(x, '*-')\n",
        "plt.show()"
      ],
      "metadata": {
        "id": "HXmlfggXvdDb"
      },
      "execution_count": null,
      "outputs": []
    },
    {
      "cell_type": "code",
      "source": [
        "x = np.linspace(0, 100, 50)\n",
        "y = np.power(x, 2)\n",
        "plt.plot(x, y, '+-')\n",
        "plt.show()"
      ],
      "metadata": {
        "id": "yQe0qy4Eve46"
      },
      "execution_count": null,
      "outputs": []
    },
    {
      "cell_type": "code",
      "source": [
        "sns.set()\n",
        "sns.lineplot(x =x, y=y)\n",
        "plt.show()"
      ],
      "metadata": {
        "id": "J7uw2Iovvf5j"
      },
      "execution_count": null,
      "outputs": []
    },
    {
      "cell_type": "markdown",
      "source": [
        "# Loading a dataset"
      ],
      "metadata": {
        "id": "1imXsnaRvZvX"
      }
    },
    {
      "cell_type": "code",
      "execution_count": null,
      "metadata": {
        "id": "zJPL_BPOvCOA"
      },
      "outputs": [],
      "source": [
        "!git clone https://github.com/deepanrajm/deep_learning.git"
      ]
    },
    {
      "cell_type": "code",
      "source": [
        "data = pd.read_csv(\"deep_learning/MLP_Pima/pima-indians-diabetes.csv\")\n",
        "data.head()"
      ],
      "metadata": {
        "id": "PUWjuundvhWn"
      },
      "execution_count": null,
      "outputs": []
    },
    {
      "cell_type": "code",
      "source": [
        "data.columns = [\"Pregnancies\",\t\"Glucose\", \t\"BP\",\t\"SkinThickness\",\"Insulin\"\t,\"BMI\"\t,\"DiabetesPedigreeFunction\",\t\"Age\"\t,\"Outcome\"]"
      ],
      "metadata": {
        "id": "1W8S-ZdQvJH3"
      },
      "execution_count": 8,
      "outputs": []
    },
    {
      "cell_type": "code",
      "source": [
        "data.head()"
      ],
      "metadata": {
        "id": "MvLesvUhwXNm"
      },
      "execution_count": null,
      "outputs": []
    },
    {
      "cell_type": "code",
      "source": [
        "data.describe()"
      ],
      "metadata": {
        "id": "-Sf4a_oVxUnZ"
      },
      "execution_count": null,
      "outputs": []
    },
    {
      "cell_type": "markdown",
      "source": [
        "# Uni-Variant"
      ],
      "metadata": {
        "id": "grACApSoxdaQ"
      }
    },
    {
      "cell_type": "code",
      "source": [
        "sns.countplot(x ='Pregnancies', data = data)\n",
        "plt.show()"
      ],
      "metadata": {
        "id": "hzxyzbEZxcJp"
      },
      "execution_count": null,
      "outputs": []
    },
    {
      "cell_type": "code",
      "source": [
        "sns.distplot(data[\"BP\"])\n",
        "plt.show()"
      ],
      "metadata": {
        "id": "oonpH5T_xi8R"
      },
      "execution_count": null,
      "outputs": []
    },
    {
      "cell_type": "code",
      "source": [
        "sns.histplot(data=data, x=\"BP\",bins = 10)\n",
        "plt.show()"
      ],
      "metadata": {
        "id": "w6Grmk27xnSe"
      },
      "execution_count": null,
      "outputs": []
    },
    {
      "cell_type": "markdown",
      "source": [
        "# Bi-Variant"
      ],
      "metadata": {
        "id": "Nq-o-r4ayPQo"
      }
    },
    {
      "cell_type": "markdown",
      "source": [],
      "metadata": {
        "id": "dykqmpuJymnd"
      }
    },
    {
      "cell_type": "code",
      "source": [
        "ax = sns.scatterplot(x=\"Glucose\", y=\"Insulin\", data=data)\n",
        "plt.show()"
      ],
      "metadata": {
        "id": "oZnBE_XTyO91"
      },
      "execution_count": null,
      "outputs": []
    },
    {
      "cell_type": "code",
      "source": [
        "#Minimum, 25,50,75, max\n",
        "ax = sns.boxplot(x=\"Outcome\", y=\"Glucose\", data=data)\n",
        "plt.show()\n",
        "#Minimum = Q1–1.5 * IQR and Maximum = Q3 + 1.5 * IQR"
      ],
      "metadata": {
        "id": "vlDMlK3gzA5Y"
      },
      "execution_count": null,
      "outputs": []
    },
    {
      "cell_type": "code",
      "source": [
        "ax = sns.violinplot(x='Pregnancies', y='DiabetesPedigreeFunction', data=data,\n",
        "               hue='Outcome', split=True)\n",
        "plt.show()"
      ],
      "metadata": {
        "id": "d078GFCDzNYo"
      },
      "execution_count": null,
      "outputs": []
    },
    {
      "cell_type": "markdown",
      "source": [
        "# Multi-Variant"
      ],
      "metadata": {
        "id": "rCSD8aGry575"
      }
    },
    {
      "cell_type": "code",
      "source": [
        "ax = sns.scatterplot(x=\"Glucose\", y=\"Insulin\",hue =\"BMI\" , size =\"BP\", data=data)\n",
        "plt.show()"
      ],
      "metadata": {
        "id": "lVt4ciVUyuEa"
      },
      "execution_count": null,
      "outputs": []
    },
    {
      "cell_type": "code",
      "source": [
        "sns.heatmap(data.corr(), annot=True, fmt=\".2f\", cmap=\"coolwarm\")"
      ],
      "metadata": {
        "id": "MwPnL91GyLkK"
      },
      "execution_count": null,
      "outputs": []
    },
    {
      "cell_type": "code",
      "source": [
        "sns.pairplot(data, hue='Outcome')\n",
        "plt.show()"
      ],
      "metadata": {
        "id": "Q98PkGRazwRr"
      },
      "execution_count": null,
      "outputs": []
    },
    {
      "cell_type": "code",
      "source": [
        "sns.pairplot(data[['Glucose','DiabetesPedigreeFunction','Insulin','SkinThickness']])\n",
        "plt.show()"
      ],
      "metadata": {
        "id": "Ur11IktAz6T9"
      },
      "execution_count": null,
      "outputs": []
    }
  ]
}